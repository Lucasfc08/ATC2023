{
 "cells": [
  {
   "cell_type": "markdown",
   "id": "1e545158",
   "metadata": {},
   "source": [
    "# Aula Prática 2 (guião)\n",
    "### Semana de 26 a 30 de Setembro de 2022\n",
    "### José Carlos Ramalho e Luís Cunha\n",
    "### Sinopsis:\n",
    "Algoritmos de cálculo numérico envolvendo estruturas condicionais (if-elif-else) e cíclicas (while)."
   ]
  },
  {
   "cell_type": "markdown",
   "id": "e38d18c4-d7d7-4fea-9bc6-e3f3c903386b",
   "metadata": {},
   "source": [
    "### Exercício 1: Soma de N números\n",
    "- Leia um número N;\n",
    "- Leia N números;\n",
    "- Imprima a soma dos N números."
   ]
  },
  {
   "cell_type": "code",
   "execution_count": 8,
   "id": "af973146-3bb4-4fa8-ba6c-b887b79ccff8",
   "metadata": {},
   "outputs": [
    {
     "name": "stdout",
     "output_type": "stream",
     "text": [
      "26\n"
     ]
    }
   ],
   "source": [
    "# Solução do exercício 1\n",
    "N = int(input(\"Insira um numero N\"))\n",
    "soma = 0\n",
    "while(N > 0):\n",
    "   num = int(input(\"Insira um  numero\"))\n",
    "   soma = soma + num\n",
    "   N = N-1\n",
    "print(soma)   \n",
    "\n"
   ]
  },
  {
   "cell_type": "markdown",
   "id": "bdcbffb0",
   "metadata": {},
   "source": [
    "### Exercício 2: O Maior de N números\n",
    "- Leia um número N;\n",
    "- Leia N números;\n",
    "- Imprima o maior dos N números."
   ]
  },
  {
   "cell_type": "code",
   "execution_count": 9,
   "id": "af973146-3bb4-4fa8-ba6c-b887b79ccff8",
   "metadata": {},
   "outputs": [
    {
     "name": "stdout",
     "output_type": "stream",
     "text": [
      "10\n"
     ]
    }
   ],
   "source": [
    "# Solução do exercício 2\n",
    "N = int(input(\"Insira um numero N\"))\n",
    "maior = int(input(\"Insira N numeros\"))\n",
    "while(N>1):\n",
    "    N = N-1\n",
    "    num = int(input(\"Insira N numeros\"))\n",
    "    if num > maior:\n",
    "        maior = num\n",
    "print(maior)        "
   ]
  },
  {
   "cell_type": "markdown",
   "id": "bdcbffb0",
   "metadata": {},
   "source": [
    "### Exercício 3: O Menor de N números\n",
    "- Leia um número N;\n",
    "- Leia N números;\n",
    "- Imprima o menor dos N números."
   ]
  },
  {
   "cell_type": "code",
   "execution_count": 12,
   "id": "64ad6f7b",
   "metadata": {},
   "outputs": [
    {
     "name": "stdout",
     "output_type": "stream",
     "text": [
      "1\n"
     ]
    }
   ],
   "source": [
    "# Solução do exercício 3\n",
    "N = int(input(\"Insira um numero N\"))\n",
    "menor = int(input(\"Insira N numeros\"))\n",
    "while(N>1):\n",
    "    N = N-1\n",
    "    num = int(input(\"Insira N numeros\"))\n",
    "    if num < menor:\n",
    "        menor = num\n",
    "print(menor)        "
   ]
  },
  {
   "cell_type": "markdown",
   "id": "bdcbffb0",
   "metadata": {},
   "source": [
    "### Exercício 4: A Média de N números\n",
    "- Leia um número N;\n",
    "- Leia N números;\n",
    "- Imprima a média dos N números."
   ]
  },
  {
   "cell_type": "code",
   "execution_count": 14,
   "id": "a6c32b2e",
   "metadata": {},
   "outputs": [
    {
     "name": "stdout",
     "output_type": "stream",
     "text": [
      "6.5\n"
     ]
    }
   ],
   "source": [
    "# Solução do exercício 4\n",
    "N = int(input(\"Insira um numero N\"))\n",
    "aux = N\n",
    "soma = 0\n",
    "while(N > 0):\n",
    "   num = int(input(\"Insira um  numero\"))\n",
    "   soma = soma + num\n",
    "   N = N-1\n",
    "media = soma / aux   \n",
    "print(media)   "
   ]
  },
  {
   "cell_type": "markdown",
   "id": "f41ef69b",
   "metadata": {},
   "source": [
    "### Exercício 5: Potência\n",
    "- Defina uma função **pot** que recebe dois parâmetros, **a** e **b**, e retorna o resultado de **a elevado à potência de b**.\n",
    "- Use esta função para escrever no monitor as potências de 2 com expoentes de 1 a 20."
   ]
  },
  {
   "cell_type": "code",
   "execution_count": 17,
   "id": "86f5b24d",
   "metadata": {},
   "outputs": [
    {
     "name": "stdout",
     "output_type": "stream",
     "text": [
      "2\n",
      "4\n",
      "8\n",
      "16\n",
      "32\n",
      "64\n",
      "128\n",
      "256\n",
      "512\n",
      "1024\n",
      "2048\n",
      "4096\n",
      "8192\n",
      "16384\n",
      "32768\n",
      "65536\n",
      "131072\n",
      "262144\n",
      "524288\n",
      "1048576\n"
     ]
    }
   ],
   "source": [
    "# Solução do exercício 5\n",
    "from re import X\n",
    "\n",
    "\n",
    "def pot(a,b):\n",
    "    mult = 1\n",
    "    while(b > 0):\n",
    "        mult = mult * a\n",
    "        b = b - 1\n",
    "    return mult\n",
    "\n",
    "n = 1\n",
    "while(n <= 20):\n",
    "    print(pot(2,n))\n",
    "    n = n + 1    \n",
    "\n",
    "\n",
    "\n"
   ]
  },
  {
   "cell_type": "markdown",
   "id": "d11cdd11",
   "metadata": {},
   "source": [
    "### Exercício 6: Série numérica\n",
    "- Defina uma função **serie** que recebe três parâmetros, **base**, **salto** e **nelems**, e escreve no monitor a série;\n",
    "- Invocada com: **serie(7, 4, 5)** escreveria: 7, 11, 15, 19, 23"
   ]
  },
  {
   "cell_type": "code",
   "execution_count": 16,
   "id": "7549c7d7",
   "metadata": {},
   "outputs": [],
   "source": [
    "# Solução do exercício 6\n"
   ]
  },
  {
   "cell_type": "markdown",
   "id": "73187e87",
   "metadata": {},
   "source": [
    "### Exercício 7: Desenhar um quadrado\n",
    "- Defina uma função **quad** que recebe um argumento, **n**, e desenha no monitor um quadrado usando o caráter '#';\n",
    "- O resultado da invocação dessa função com um argumento 3 deverá ser:\n",
    "```\n",
    "###\n",
    "###\n",
    "###\n",
    "```"
   ]
  },
  {
   "cell_type": "code",
   "execution_count": 18,
   "id": "a31f8eaf",
   "metadata": {},
   "outputs": [
    {
     "name": "stdout",
     "output_type": "stream",
     "text": [
      "# # # \n",
      "# # # \n",
      "# # # \n"
     ]
    }
   ],
   "source": [
    "# Solução do exercício 7\n",
    "def quad(n):\n",
    "    i = n\n",
    "    z = n\n",
    "    while(n > 0):\n",
    "        i = z\n",
    "        while(i > 0):\n",
    "            print(\"#\" ,end=\" \")\n",
    "            i = i - 1\n",
    "        print()\n",
    "        n = n - 1\n",
    "\n",
    "quad(3)        \n",
    "\n"
   ]
  },
  {
   "cell_type": "markdown",
   "id": "10b1d00c",
   "metadata": {},
   "source": [
    "### Exercício 8: Desenhar um quadrado\n",
    "- Defina uma função que desenhe no ecran (usando os caracteres # e _) um tabuleiro de xadrez; \n",
    "- O resultado da invocação dessa função com um argumento 5 deverá ser:\n",
    "```\n",
    "#_#_#\n",
    "_#_#_\n",
    "#_#_#\n",
    "_#_#_\n",
    "#_#_#\n",
    "```"
   ]
  },
  {
   "cell_type": "code",
   "execution_count": 18,
   "id": "a4ccf6e1",
   "metadata": {},
   "outputs": [],
   "source": [
    "# Solução do exercício 8"
   ]
  },
  {
   "cell_type": "markdown",
   "id": "f4e2bc84",
   "metadata": {},
   "source": [
    "### Exercício 9: Índice de Massa Corporal\n",
    "- Defina uma função **imc** que recebe dois parâmetros, **peso**,**altura**, calcula o IMC corresponente e interpreta esse resultado.\n",
    "- imc(53,1.56) - Output: \"O seu índice de massa corporal é **21.78** e encontra-se na categoria **Normal**\"\n",
    "- imc(83,1.56) - Output: \"O seu índice de massa corporal é **34.11** e encontra-se na categoria **Obesidade grau I**\"\n",
    "\n",
    "Valores:\n",
    "- Menor que 18,5 - Baixo peso\n",
    "- 18,5 a 24,9 - Normal\n",
    "- 25 a 29,9\t- Excesso de peso\n",
    "- 30 a 34,9\t- Obesidade grau I\n",
    "- 35 a 39,9\t- Obesidade grau II\n",
    "- Maior que 40\t- Obesidade grau III"
   ]
  },
  {
   "cell_type": "code",
   "execution_count": 19,
   "id": "2a62004a",
   "metadata": {},
   "outputs": [],
   "source": [
    "# Solução do exercício 9"
   ]
  },
  {
   "cell_type": "markdown",
   "id": "5dcb3573",
   "metadata": {},
   "source": [
    "### Exercício 10: Série de Fibonacci\n",
    "- Defina uma função **fib** que recebe um argumento, **n**, e escreve no monitor os primeiros n elementos da série de fibonacci;\n",
    "- A série de Fibonacci tem a seguinte definição matemática:\n",
    "    - Se n < 2 ==> 1\n",
    "    - Se n >= 2 ==> fib(n-1) + fib(n-2)"
   ]
  },
  {
   "cell_type": "code",
   "execution_count": 20,
   "id": "fc54507c",
   "metadata": {},
   "outputs": [],
   "source": [
    "# Solução do exercício 10"
   ]
  },
  {
   "cell_type": "markdown",
   "id": "c10a9e44",
   "metadata": {},
   "source": [
    "### Exercício 11: Potência (recursiva)\n",
    "- Revisitando o problema da potência:\n",
    "    - Defina uma função **pot** que recebe dois parâmetros, **a** e **b**, e retorna o resultado de **a elevado à potência de b**;\n",
    "    - Defina esta função de forma recursiva."
   ]
  },
  {
   "cell_type": "code",
   "execution_count": 21,
   "id": "00146b49",
   "metadata": {},
   "outputs": [],
   "source": [
    "# Solução do exercício 11"
   ]
  },
  {
   "cell_type": "markdown",
   "id": "81703f1b",
   "metadata": {},
   "source": [
    "### TPC2: Adivinha o número\n",
    "- Crie um programa em Python para jogar o jogo \"Adivinha o número\":\n",
    "    - O jogo pode ter 2 modalidades: computador pensa num número (entre 0 e 100), utilizador tenta adivinhar; ou, o utilizador pensa num número (entre 0 e 100) e o computador tenta adivinhar;\n",
    "    - Quem tenta adivinhar responde com uma das afirmações: \"Acertou\", \"O número que pensei é Maior\" ou \"O número que pensei é Menor\";\n",
    "    - Uma vez descoberto o número o programa deverá terminar imprimindo o número de tentativas que quem adivinhou usou para chegar ao resultado."
   ]
  },
  {
   "cell_type": "code",
   "execution_count": 18,
   "id": "67b6061a",
   "metadata": {},
   "outputs": [
    {
     "ename": "ValueError",
     "evalue": "invalid literal for int() with base 10: ''",
     "output_type": "error",
     "traceback": [
      "\u001b[1;31m---------------------------------------------------------------------------\u001b[0m",
      "\u001b[1;31mValueError\u001b[0m                                Traceback (most recent call last)",
      "Cell \u001b[1;32mIn [18], line 8\u001b[0m\n\u001b[0;32m      6\u001b[0m numadiv \u001b[38;5;241m=\u001b[39m random\u001b[38;5;241m.\u001b[39mrandint(\u001b[38;5;241m0\u001b[39m,\u001b[38;5;241m100\u001b[39m) \n\u001b[0;32m      7\u001b[0m contador \u001b[38;5;241m=\u001b[39m \u001b[38;5;241m0\u001b[39m \n\u001b[1;32m----> 8\u001b[0m guess \u001b[38;5;241m=\u001b[39m \u001b[38;5;28mint\u001b[39m(\u001b[38;5;28minput\u001b[39m(\u001b[38;5;124m\"\u001b[39m\u001b[38;5;124mO número a adivinhar é? \u001b[39m\u001b[38;5;124m\"\u001b[39m)) \n\u001b[0;32m     10\u001b[0m \u001b[38;5;28;01mif\u001b[39;00m guess \u001b[38;5;241m!=\u001b[39m numadiv: \n\u001b[0;32m     11\u001b[0m   contador \u001b[38;5;241m=\u001b[39m contador \u001b[38;5;241m+\u001b[39m \u001b[38;5;241m1\u001b[39m\n",
      "\u001b[1;31mValueError\u001b[0m: invalid literal for int() with base 10: ''"
     ]
    }
   ],
   "source": [
    "import random\n",
    "\n",
    "modalidade=input(\"Escolha quem adivinha (Computador ou Jogador): \")\n",
    " \n",
    "if modalidade==\"jogador\":\n",
    "    numadiv = random.randint(0,100) \n",
    "    contador = 0 \n",
    "    guess = int(input(\"O número a adivinhar é? \")) \n",
    "\n",
    "    if guess != numadiv: \n",
    "      contador = contador + 1\n",
    "\n",
    "    while guess != numadiv: \n",
    "      \n",
    "      if guess < numadiv: \n",
    "        print(\"O número que pensei é Maior do que \" + str(guess) + \".\") \n",
    "        guess = int(input(\"O número a adivinhar é? \"))\n",
    "        contador = contador + 1 \n",
    "      elif guess > numadiv: \n",
    "        print(\"O número que pensei é Menor do que \"+ str(guess) + \".\")\n",
    "        guess = int(input(\"O número a adivinhar é? \"))\n",
    "        contador = contador + 1 \n",
    "\n",
    "    print(\"Acertou!!\")\n",
    "    print(\"Conseguiu acertar em \" + str(contador) + \" tentativas .\") \n",
    "\n",
    "else:   \n",
    "    lower=0\n",
    "    upper=100\n",
    "    dif=upper-lower\n",
    "    resposta=resposta=lower+dif/2\n",
    "                \n",
    "    ans=input(\"O seu número é {}? sim/maior/menor\".format(resposta))\n",
    "    N=1\n",
    "\n",
    "    while ans!=\"sim\":\n",
    "    \n",
    "        if ans==\"maior\":\n",
    "            lower=resposta\n",
    "            dif=upper-lower\n",
    "        \n",
    "            if dif%2==0:\n",
    "                resposta=lower+dif/2\n",
    "\n",
    "            elif dif%2>0:\n",
    "                resposta=lower+dif/2+0.5\n",
    "        \n",
    "            ans=input(\"O seu número é {}? sim/maior/menor\".format(resposta))\n",
    "            N=N+1\n",
    "\n",
    "        if ans==\"menor\":\n",
    "            upper=resposta\n",
    "            dif=upper-lower\n",
    "                \n",
    "            if dif%2==0:\n",
    "                resposta=lower+dif/2\n",
    "                \n",
    "            elif dif%2>0:\n",
    "                resposta=lower+dif/2+0.5\n",
    "\n",
    "            \n",
    "            ans=input(\"O seu número é {}? sim/maior/menor\".format(resposta))\n",
    "            N=N+1\n",
    "\n",
    "    print(\"{} tentativas.\".format(N))"
   ]
  },
  {
   "cell_type": "code",
   "execution_count": null,
   "id": "ccc64a92",
   "metadata": {},
   "outputs": [],
   "source": []
  }
 ],
 "metadata": {
  "kernelspec": {
   "display_name": "Python 3.10.7 64-bit (microsoft store)",
   "language": "python",
   "name": "python3"
  },
  "language_info": {
   "codemirror_mode": {
    "name": "ipython",
    "version": 3
   },
   "file_extension": ".py",
   "mimetype": "text/x-python",
   "name": "python",
   "nbconvert_exporter": "python",
   "pygments_lexer": "ipython3",
   "version": "3.10.8"
  },
  "vscode": {
   "interpreter": {
    "hash": "07f25d79d22bb07f853fe60dc6a8951878331861792a9e3972b395129bc8db22"
   }
  }
 },
 "nbformat": 4,
 "nbformat_minor": 5
}
